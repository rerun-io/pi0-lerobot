{
 "cells": [
  {
   "cell_type": "code",
   "execution_count": 1,
   "id": "b7827866",
   "metadata": {},
   "outputs": [],
   "source": [
    "%load_ext ipython_beartype\n",
    "%beartype\n",
    "\n",
    "%load_ext autoreload\n",
    "%autoreload 2"
   ]
  },
  {
   "cell_type": "code",
   "execution_count": null,
   "id": "364167d2",
   "metadata": {},
   "outputs": [
    {
     "name": "stderr",
     "output_type": "stream",
     "text": [
      "WARNING:2025-04-21 15:11:14,647:jax._src.xla_bridge:909: An NVIDIA GPU may be present on this machine, but a CUDA-enabled jaxlib is not installed. Falling back to cpu.\n"
     ]
    }
   ],
   "source": [
    "# Add these lines to the cell with id 34bb5824\n",
    "import warnings\n",
    "\n",
    "import jax.numpy as jnp\n",
    "import numpy as np\n",
    "import rerun as rr\n",
    "from jaxtyping import Array, Float\n",
    "from simplecv.data.exoego.skeleton.mediapipe import MEDIAPIPE_ID2NAME, MEDIAPIPE_IDS, MEDIAPIPE_LINKS\n",
    "\n",
    "from pi0_lerobot.mano.mano_jax import mano_j_left, mano_j_right\n",
    "\n",
    "warnings.filterwarnings('ignore', category=RuntimeWarning)\n"
   ]
  },
  {
   "cell_type": "code",
   "execution_count": 3,
   "id": "30fc666f",
   "metadata": {},
   "outputs": [],
   "source": [
    "\n",
    "def set_pose_annotation_context() -> None:\n",
    "    rr.log(\n",
    "        \"/\",\n",
    "        rr.AnnotationContext(\n",
    "            [\n",
    "                rr.ClassDescription(\n",
    "                    info=rr.AnnotationInfo(id=0, label=\"Triangulated Hand\", color=(0, 0, 255)),\n",
    "                    keypoint_annotations=[\n",
    "                        rr.AnnotationInfo(id=id, label=name) for id, name in MEDIAPIPE_ID2NAME.items()\n",
    "                    ],\n",
    "                    keypoint_connections=MEDIAPIPE_LINKS,\n",
    "                ),\n",
    "                rr.ClassDescription(\n",
    "                    info=rr.AnnotationInfo(id=1, label=\"Optimized Hand\", color=(255, 0, 0)),\n",
    "                    keypoint_annotations=[\n",
    "                        rr.AnnotationInfo(id=id, label=name) for id, name in MEDIAPIPE_ID2NAME.items()\n",
    "                    ],\n",
    "                    keypoint_connections=MEDIAPIPE_LINKS,\n",
    "                ),\n",
    "            \n",
    "            ]\n",
    "        ),\n",
    "        static=True,\n",
    "    )"
   ]
  },
  {
   "cell_type": "code",
   "execution_count": 4,
   "id": "7ef8375b",
   "metadata": {},
   "outputs": [
    {
     "name": "stderr",
     "output_type": "stream",
     "text": [
      "[2025-04-21T20:11:15Z WARN  re_log_types::path::parse_path] When parsing the entity path \"left joints\": Unescaped whitespace. The path will be interpreted as /left\\ joints\n",
      "[2025-04-21T20:11:15Z WARN  re_log_types::path::parse_path] When parsing the entity path \"right joints\": Unescaped whitespace. The path will be interpreted as /right\\ joints\n"
     ]
    },
    {
     "data": {
      "application/vnd.jupyter.widget-view+json": {
       "model_id": "7e15c7a18b32492b87e6ebfad1dec1e8",
       "version_major": 2,
       "version_minor": 1
      },
      "text/plain": [
       "Viewer()"
      ]
     },
     "metadata": {},
     "output_type": "display_data"
    },
    {
     "name": "stderr",
     "output_type": "stream",
     "text": [
      "WARNING:root:Timed out waiting for viewer to become ready. Make sure: https://app.rerun.io/version/0.22.1/widget.js is accessible.\n",
      "If not, consider setting `RERUN_NOTEBOOK_ASSET`. Consult https://pypi.org/project/rerun-notebook/0.22.1/ for details.\n",
      "\n"
     ]
    }
   ],
   "source": [
    "rr.init(\"mano_joints\")\n",
    "\n",
    "set_pose_annotation_context()\n",
    "\n",
    "pose_coeffs: Float[Array, \"batch 48\"] = jnp.zeros((1, 48))\n",
    "left_trans: Float[Array, \"batch 1 3\"] = jnp.array([[[0,0,0.2]]])\n",
    "right_trans: Float[Array, \"batch 1 3\"] = jnp.array([[[0,0,-0.2]]])\n",
    "\n",
    "xyz_left:Float[Array, \"batch 21 3\"] = mano_j_left(pose_coeffs, left_trans)\n",
    "xyz_right:Float[Array, \"batch 21 3\"] = mano_j_right(pose_coeffs, right_trans)\n",
    "\n",
    "\n",
    "\n",
    "\n",
    "rr.log(\"left joints\", rr.Points3D(positions=xyz_left[0], class_ids=0, keypoint_ids=MEDIAPIPE_IDS, colors=(0, 255, 0), show_labels=False))\n",
    "rr.log(\"right joints\", rr.Points3D(positions=xyz_right[0], class_ids=0,keypoint_ids=MEDIAPIPE_IDS,colors=(0, 255, 0), show_labels=False))\n",
    "\n",
    "rr.notebook_show()"
   ]
  },
  {
   "cell_type": "code",
   "execution_count": 5,
   "id": "9836b110",
   "metadata": {},
   "outputs": [
    {
     "name": "stdout",
     "output_type": "stream",
     "text": [
      "Found HoloLens camera: hololens_kv5h72\n"
     ]
    },
    {
     "name": "stderr",
     "output_type": "stream",
     "text": [
      "Loading videos: 100%|██████████| 8/8 [00:00<00:00, 27391.37it/s]\n",
      "Loading 3D labels: 100%|██████████| 8/8 [00:02<00:00,  3.76it/s]\n",
      "Indexing depth images: 100%|██████████| 8/8 [00:00<00:00, 423.72it/s]\n"
     ]
    }
   ],
   "source": [
    "from pathlib import Path\n",
    "\n",
    "from simplecv.data.exoego.hocap import HOCapSequence\n",
    "\n",
    "sequence: HOCapSequence = HOCapSequence(\n",
    "                data_path=Path(\"../data/hocap/sample\"),\n",
    "                sequence_name=\"20231024_180733\",\n",
    "                subject_id=\"8\",\n",
    "                load_labels=True,\n",
    "            )"
   ]
  },
  {
   "cell_type": "code",
   "execution_count": 6,
   "id": "21e84c44",
   "metadata": {},
   "outputs": [],
   "source": [
    "from jaxtyping import Float32\n",
    "from numpy import ndarray\n",
    "from simplecv.camera_parameters import PinholeParameters\n",
    "\n",
    "exo_cam_list: list[PinholeParameters] = sequence.exo_cam_list\n",
    "projection_all_list: list[Float32[np.ndarray, \"3 4\"]] = []\n",
    "for exo_cam in sequence.exo_cam_list:\n",
    "    projection_matrix: Float32[ndarray, \"3 4\"] = exo_cam.projection_matrix.astype(np.float32)\n",
    "    projection_all_list.append(projection_matrix)\n",
    "\n",
    "Pall: Float32[np.ndarray, \"n_views 3 4\"] = np.array([P for P in projection_all_list])"
   ]
  },
  {
   "cell_type": "code",
   "execution_count": 7,
   "id": "e3155764",
   "metadata": {},
   "outputs": [],
   "source": [
    "from simplecv.apis.view_exoego_data import create_blueprint\n",
    "from simplecv.data.exoego.base_exo_ego import ExoData\n",
    "\n",
    "exo_data: ExoData = next(iter(sequence))\n",
    "parent_log_path:Path = Path(\"world\")\n",
    "\n",
    "exo_cam_log_paths: list[Path] = [parent_log_path / exo_cam.name for exo_cam in sequence.exo_cam_list]\n",
    "exo_video_log_paths: list[Path] = [cam_log_paths / \"pinhole\" / \"video\" for cam_log_paths in exo_cam_log_paths]\n",
    "\n",
    "blueprint = create_blueprint(exo_video_log_paths=exo_video_log_paths, num_videos_to_log=8)"
   ]
  },
  {
   "cell_type": "code",
   "execution_count": 8,
   "id": "4cf8d3e3",
   "metadata": {},
   "outputs": [
    {
     "data": {
      "application/vnd.jupyter.widget-view+json": {
       "model_id": "214f678715884ac0a4bae63c8ad2c2d3",
       "version_major": 2,
       "version_minor": 1
      },
      "text/plain": [
       "Viewer()"
      ]
     },
     "metadata": {},
     "output_type": "display_data"
    },
    {
     "name": "stderr",
     "output_type": "stream",
     "text": [
      "WARNING:root:Timed out waiting for viewer to become ready. Make sure: https://app.rerun.io/version/0.22.1/widget.js is accessible.\n",
      "If not, consider setting `RERUN_NOTEBOOK_ASSET`. Consult https://pypi.org/project/rerun-notebook/0.22.1/ for details.\n",
      "\n"
     ]
    }
   ],
   "source": [
    "rr.init(\"sequence data\")\n",
    "set_pose_annotation_context()\n",
    "\n",
    "\n",
    "for hand_idx, (hand_side, color, class_id) in enumerate(\n",
    "        (\n",
    "            (\"left\", (0, 255, 0), 0),\n",
    "            (\"right\", (0, 255, 0), 0),\n",
    "        )\n",
    "    ):\n",
    "        xyz: Float32[ndarray, \"21 3\"] = exo_data.xyz[hand_idx]\n",
    "        rr.log(\n",
    "            hand_side,\n",
    "            rr.Points3D(\n",
    "                xyz,\n",
    "                colors=color,\n",
    "                class_ids=class_id,\n",
    "                keypoint_ids=MEDIAPIPE_IDS,\n",
    "                show_labels=False,\n",
    "            ),\n",
    "        )\n",
    "\n",
    "for cam_param, bgr in zip(exo_data.cam_params_list, exo_data.bgr_list, strict=True):\n",
    "    for hand_idx, (hand_side, color, class_id) in enumerate(\n",
    "        (\n",
    "            (\"left\", (0, 255, 0), 0),\n",
    "            (\"right\", (0, 255, 0), 0),\n",
    "        )\n",
    "    ):\n",
    "        xyz: Float32[ndarray, \"21 3\"] = exo_data.xyz[hand_idx]\n",
    "        z_relative: Float32[ndarray, \"21\"] = xyz[:, 2] - xyz[9, 2]\n",
    "        # np.nan is used to indicate that a joint is not confidently detected\n",
    "        uv: Float32[ndarray, \"21 2\"] = exo_data.uv_dict[cam_param.name][hand_idx]\n",
    "        # np.nan is used to indicate that a joint is not confidently detected\n",
    "        uv[uv == -1] = np.nan\n",
    "\n",
    "        uvz:Float32[ndarray, \"21 3\"] = np.concatenate([uv, z_relative[:, None]], axis=1)\n",
    "\n",
    "        # find min/max to generate a bounding box, add a small padding\n",
    "        uv_min:Float32[ndarray, \"2\"] = np.nanmin(uv, axis=0)\n",
    "        uv_max:Float32[ndarray, \"2\"] = np.nanmax(uv, axis=0)\n",
    "\n",
    "        uv_min = uv_min - 0.05\n",
    "        uv_max = uv_max + 0.05\n",
    "\n",
    "        xyxy:Float32[ndarray, \"4\"] = np.concatenate([uv_min, uv_max], axis=0)\n",
    "\n",
    "        image_log_path: Path = parent_log_path / cam_param.name / \"pinhole\" / \"video\"\n",
    "        rr.log(\n",
    "            f\"{image_log_path}/{hand_side}_keypoints\",\n",
    "            rr.Points2D(\n",
    "                uv,\n",
    "                colors=color,\n",
    "                class_ids=class_id,\n",
    "                keypoint_ids=MEDIAPIPE_IDS,\n",
    "                show_labels=False,\n",
    "            ),\n",
    "        )\n",
    "\n",
    "        rr.log(\n",
    "                f\"{image_log_path}/{hand_side}_xyxy\",\n",
    "                rr.Boxes2D(\n",
    "                    array=xyxy,\n",
    "                    array_format=rr.Box2DFormat.XYXY\n",
    "                )\n",
    "        )\n",
    "        rr.log(\n",
    "            f\"{image_log_path}\",\n",
    "            rr.Image(\n",
    "                bgr,\n",
    "                color_model=rr.ColorModel.BGR\n",
    "            ).compress(jpeg_quality=75),\n",
    "        )\n",
    "\n",
    "rr.notebook_show(width=1000, height=700, blueprint=blueprint)"
   ]
  },
  {
   "cell_type": "code",
   "execution_count": 9,
   "id": "163c0dbd",
   "metadata": {},
   "outputs": [
    {
     "name": "stderr",
     "output_type": "stream",
     "text": [
      "/home/pablo/0Dev/repos/pi0-lerobot/.pixi/envs/default/lib/python3.11/site-packages/jaxopt/_src/levenberg_marquardt.py:506: UserWarning: The linear solver cholesky that requires materialization of J^T.J matrix is used with materialize_jac=False, which may cause a computational overhead. Consider using either a matrix-free iterative solver such as cg or bicg or using materialize_jac=True.\n",
      "  warnings.warn(f\"The linear solver {self.solver} that requires materialization of \"\n"
     ]
    },
    {
     "name": "stdout",
     "output_type": "stream",
     "text": [
      "Tracing JIT, can take a while...\n",
      "Trace Done\n"
     ]
    }
   ],
   "source": [
    "from pi0_lerobot.mano.mano_optimization_jax import LMOptimJointOnly, LossWeights\n",
    "\n",
    "loss_weights = LossWeights(\n",
    "    keypoint_2d=0.1,\n",
    "    depth=0.0,\n",
    "    temp=0.0,\n",
    ")\n",
    "megatrack_fitter = LMOptimJointOnly(\n",
    "    Pall=Pall,\n",
    "    loss_weights=loss_weights,\n",
    "    num_iters=30,\n",
    ")"
   ]
  },
  {
   "cell_type": "code",
   "execution_count": 10,
   "id": "839a69cf",
   "metadata": {},
   "outputs": [],
   "source": [
    "from jaxopt._src.levenberg_marquardt import LevenbergMarquardtState\n",
    "\n",
    "from pi0_lerobot.mano.mano_optimization_jax import OptimizationResults\n",
    "\n",
    "output: tuple[OptimizationResults, LevenbergMarquardtState] = megatrack_fitter(xyz_pred_batch=exo_data.xyz)\n",
    "optimized_result: OptimizationResults = output[0]\n",
    "state: LevenbergMarquardtState = output[1]"
   ]
  },
  {
   "cell_type": "code",
   "execution_count": 11,
   "id": "10c9ba87",
   "metadata": {},
   "outputs": [
    {
     "name": "stdout",
     "output_type": "stream",
     "text": [
      "('iter_num', 'damping_factor', 'increase_factor', 'residual', 'value', 'delta', 'error', 'gradient', 'jac', 'jt', 'jtj', 'hess_res', 'aux')\n",
      "0.00043537063\n",
      "4\n"
     ]
    }
   ],
   "source": [
    "print(state._fields)\n",
    "print(state.error)\n",
    "print(state.iter_num)"
   ]
  },
  {
   "cell_type": "code",
   "execution_count": null,
   "id": "19da5c2b",
   "metadata": {},
   "outputs": [
    {
     "data": {
      "application/vnd.jupyter.widget-view+json": {
       "model_id": "337c69c35b07419e9db9926df7a4bf98",
       "version_major": 2,
       "version_minor": 1
      },
      "text/plain": [
       "Viewer()"
      ]
     },
     "metadata": {},
     "output_type": "display_data"
    },
    {
     "name": "stderr",
     "output_type": "stream",
     "text": [
      "WARNING:root:Timed out waiting for viewer to become ready. Make sure: https://app.rerun.io/version/0.22.1/widget.js is accessible.\n",
      "If not, consider setting `RERUN_NOTEBOOK_ASSET`. Consult https://pypi.org/project/rerun-notebook/0.22.1/ for details.\n",
      "\n"
     ]
    }
   ],
   "source": [
    "rr.init(\"Refined sequence data\")\n",
    "set_pose_annotation_context()\n",
    "rr.notebook_show(width=1000, height=700, blueprint=blueprint)\n",
    "for hand_idx, (hand_side, color, class_id) in enumerate(\n",
    "        (\n",
    "            (\"left\", (0, 255, 0), 0),\n",
    "            (\"right\", (0, 255, 0), 0),\n",
    "        )\n",
    "    ):\n",
    "        xyz_pred: Float32[ndarray, \"21 3\"] = exo_data.xyz[hand_idx]\n",
    "        match hand_side:\n",
    "            case \"left\":\n",
    "                xyz: Float[ndarray, \"21 3\"] = optimized_result.xyz_mano[0]\n",
    "            case \"right\":\n",
    "                xyz: Float[ndarray, \"21 3\"] = optimized_result.xyz_mano[1]\n",
    "            case _: \n",
    "                raise ValueError(f\"Invalid hand side: {hand_side}\")\n",
    "        rr.log(\n",
    "            f\"{hand_side}_optimized\",\n",
    "            rr.Points3D(\n",
    "                xyz,\n",
    "                colors=color,\n",
    "                class_ids=1,\n",
    "                keypoint_ids=MEDIAPIPE_IDS,\n",
    "                show_labels=False,\n",
    "            ),\n",
    "        )\n",
    "        rr.log(\n",
    "            f\"{hand_side}\",\n",
    "            rr.Points3D(\n",
    "                xyz_pred,\n",
    "                colors=color,\n",
    "                class_ids=class_id,\n",
    "                keypoint_ids=sequence.hand_ids,\n",
    "                show_labels=False,\n",
    "            ),\n",
    "        )"
   ]
  },
  {
   "cell_type": "markdown",
   "id": "35f62f53",
   "metadata": {},
   "source": [
    "## Lets get this working for the first 10 frames instead of just a single timestep"
   ]
  },
  {
   "cell_type": "code",
   "execution_count": 13,
   "id": "23c8611f",
   "metadata": {},
   "outputs": [
    {
     "data": {
      "application/vnd.jupyter.widget-view+json": {
       "model_id": "6fcfa557876342cea55d751bf10d2e1d",
       "version_major": 2,
       "version_minor": 1
      },
      "text/plain": [
       "Viewer()"
      ]
     },
     "metadata": {},
     "output_type": "display_data"
    },
    {
     "name": "stderr",
     "output_type": "stream",
     "text": [
      "WARNING:root:Timed out waiting for viewer to become ready. Make sure: https://app.rerun.io/version/0.22.1/widget.js is accessible.\n",
      "If not, consider setting `RERUN_NOTEBOOK_ASSET`. Consult https://pypi.org/project/rerun-notebook/0.22.1/ for details.\n",
      "\n"
     ]
    },
    {
     "name": "stdout",
     "output_type": "stream",
     "text": [
      "xyxy is nan: [nan nan nan nan]\n",
      "xyxy is nan: [nan nan nan nan]\n",
      "xyxy is nan: [nan nan nan nan]\n",
      "xyxy is nan: [nan nan nan nan]\n",
      "xyxy is nan: [nan nan nan nan]\n",
      "xyxy is nan: [nan nan nan nan]\n",
      "xyxy is nan: [nan nan nan nan]\n",
      "xyxy is nan: [nan nan nan nan]\n",
      "xyxy is nan: [nan nan nan nan]\n",
      "xyxy is nan: [nan nan nan nan]\n",
      "xyxy is nan: [nan nan nan nan]\n",
      "xyxy is nan: [nan nan nan nan]\n",
      "xyxy is nan: [nan nan nan nan]\n",
      "xyxy is nan: [nan nan nan nan]\n",
      "xyxy is nan: [nan nan nan nan]\n",
      "xyxy is nan: [nan nan nan nan]\n",
      "xyxy is nan: [nan nan nan nan]\n",
      "xyxy is nan: [nan nan nan nan]\n",
      "xyxy is nan: [nan nan nan nan]\n",
      "xyxy is nan: [nan nan nan nan]\n",
      "xyxy is nan: [nan nan nan nan]\n",
      "xyxy is nan: [nan nan nan nan]\n",
      "xyxy is nan: [nan nan nan nan]\n",
      "xyxy is nan: [nan nan nan nan]\n",
      "xyxy is nan: [nan nan nan nan]\n",
      "xyxy is nan: [nan nan nan nan]\n",
      "xyxy is nan: [nan nan nan nan]\n",
      "xyxy is nan: [nan nan nan nan]\n",
      "xyxy is nan: [nan nan nan nan]\n",
      "xyxy is nan: [nan nan nan nan]\n",
      "xyxy is nan: [nan nan nan nan]\n",
      "xyxy is nan: [nan nan nan nan]\n",
      "xyxy is nan: [nan nan nan nan]\n",
      "xyxy is nan: [nan nan nan nan]\n",
      "xyxy is nan: [nan nan nan nan]\n",
      "xyxy is nan: [nan nan nan nan]\n",
      "xyxy is nan: [nan nan nan nan]\n",
      "xyxy is nan: [nan nan nan nan]\n",
      "xyxy is nan: [nan nan nan nan]\n",
      "xyxy is nan: [nan nan nan nan]\n",
      "xyxy is nan: [nan nan nan nan]\n",
      "xyxy is nan: [nan nan nan nan]\n",
      "xyxy is nan: [nan nan nan nan]\n",
      "xyxy is nan: [nan nan nan nan]\n",
      "xyxy is nan: [nan nan nan nan]\n",
      "xyxy is nan: [nan nan nan nan]\n",
      "xyxy is nan: [nan nan nan nan]\n",
      "xyxy is nan: [nan nan nan nan]\n",
      "xyxy is nan: [nan nan nan nan]\n",
      "xyxy is nan: [nan nan nan nan]\n",
      "xyxy is nan: [nan nan nan nan]\n",
      "xyxy is nan: [nan nan nan nan]\n",
      "xyxy is nan: [nan nan nan nan]\n",
      "xyxy is nan: [nan nan nan nan]\n",
      "xyxy is nan: [nan nan nan nan]\n",
      "xyxy is nan: [nan nan nan nan]\n",
      "xyxy is nan: [nan nan nan nan]\n",
      "xyxy is nan: [nan nan nan nan]\n",
      "xyxy is nan: [nan nan nan nan]\n",
      "xyxy is nan: [nan nan nan nan]\n",
      "xyxy is nan: [nan nan nan nan]\n",
      "xyxy is nan: [nan nan nan nan]\n"
     ]
    }
   ],
   "source": [
    "import itertools\n",
    "\n",
    "rr.init(\"sequence data\")\n",
    "set_pose_annotation_context()\n",
    "rr.notebook_show(width=1000, height=700, blueprint=blueprint)\n",
    "\n",
    "exo_data: ExoData\n",
    "for idx, exo_data in enumerate(itertools.islice(sequence, 50)):\n",
    "    rr.set_time_sequence(\"frame idx\",sequence=idx)\n",
    "    for hand_idx, (hand_side, color, class_id) in enumerate(\n",
    "            (\n",
    "                (\"left\", (0, 255, 0), 0),\n",
    "                (\"right\", (0, 255, 0), 0),\n",
    "            )\n",
    "        ):\n",
    "            xyz: Float32[ndarray, \"21 3\"] = exo_data.xyz[hand_idx]\n",
    "            rr.log(\n",
    "                hand_side,\n",
    "                rr.Points3D(\n",
    "                    xyz,\n",
    "                    colors=color,\n",
    "                    class_ids=class_id,\n",
    "                    keypoint_ids=MEDIAPIPE_IDS,\n",
    "                    show_labels=False,\n",
    "                ),\n",
    "            )\n",
    "\n",
    "    for cam_param, bgr in zip(exo_data.cam_params_list, exo_data.bgr_list, strict=True):\n",
    "        for hand_idx, (hand_side, color, class_id) in enumerate(\n",
    "            (\n",
    "                (\"left\", (0, 255, 0), 0),\n",
    "                (\"right\", (0, 255, 0), 0),\n",
    "            )\n",
    "        ):\n",
    "            xyz: Float32[ndarray, \"21 3\"] = exo_data.xyz[hand_idx]\n",
    "            z_relative: Float32[ndarray, \"21\"] = xyz[:, 2] - xyz[9, 2]\n",
    "            # np.nan is used to indicate that a joint is not confidently detected\n",
    "            uv: Float32[ndarray, \"21 2\"] = exo_data.uv_dict[cam_param.name][hand_idx]\n",
    "            # np.nan is used to indicate that a joint is not confidently detected\n",
    "            uv[uv == -1] = np.nan\n",
    "\n",
    "            uvz:Float32[ndarray, \"21 3\"] = np.concatenate([uv, z_relative[:, None]], axis=1)\n",
    "\n",
    "            # find min/max to generate a bounding box, add a small padding\n",
    "            uv_min:Float32[ndarray, \"2\"] = np.nanmin(uv, axis=0)\n",
    "            uv_max:Float32[ndarray, \"2\"] = np.nanmax(uv, axis=0)\n",
    "\n",
    "            xyxy:Float32[ndarray, \"4\"] = np.concatenate([uv_min, uv_max], axis=0)\n",
    "            if np.any(np.isnan(xyxy)):\n",
    "                print(f\"xyxy is nan: {xyxy}\")\n",
    "                continue\n",
    "\n",
    "            image_log_path: Path = parent_log_path / cam_param.name / \"pinhole\" / \"video\"\n",
    "            rr.log(\n",
    "                f\"{image_log_path}/{hand_side}_keypoints\",\n",
    "                rr.Points2D(\n",
    "                    uv,\n",
    "                    colors=color,\n",
    "                    class_ids=class_id,\n",
    "                    keypoint_ids=MEDIAPIPE_IDS,\n",
    "                    show_labels=False,\n",
    "                ),\n",
    "            )\n",
    "\n",
    "            rr.log(\n",
    "                    f\"{image_log_path}/{hand_side}_xyxy\",\n",
    "                    rr.Boxes2D(\n",
    "                        array=xyxy,\n",
    "                        array_format=rr.Box2DFormat.XYXY\n",
    "                    )\n",
    "            )\n",
    "            rr.log(\n",
    "                f\"{image_log_path}\",\n",
    "                rr.Image(\n",
    "                    bgr,\n",
    "                    color_model=rr.ColorModel.BGR\n",
    "                ).compress(jpeg_quality=75),\n",
    "            )"
   ]
  },
  {
   "cell_type": "code",
   "execution_count": 19,
   "id": "efbb1be1",
   "metadata": {},
   "outputs": [
    {
     "name": "stderr",
     "output_type": "stream",
     "text": [
      "/home/pablo/0Dev/repos/pi0-lerobot/.pixi/envs/default/lib/python3.11/site-packages/jaxopt/_src/levenberg_marquardt.py:506: UserWarning: The linear solver cholesky that requires materialization of J^T.J matrix is used with materialize_jac=False, which may cause a computational overhead. Consider using either a matrix-free iterative solver such as cg or bicg or using materialize_jac=True.\n",
      "  warnings.warn(f\"The linear solver {self.solver} that requires materialization of \"\n"
     ]
    },
    {
     "name": "stdout",
     "output_type": "stream",
     "text": [
      "Tracing JIT, can take a while...\n",
      "Trace Done\n"
     ]
    }
   ],
   "source": [
    "megatrack_fitter = LMOptimJointOnly(\n",
    "    Pall=Pall,\n",
    "    loss_weights=loss_weights,\n",
    "    num_iters=50,\n",
    ")"
   ]
  },
  {
   "cell_type": "code",
   "execution_count": 20,
   "id": "52ff9995",
   "metadata": {},
   "outputs": [
    {
     "data": {
      "application/vnd.jupyter.widget-view+json": {
       "model_id": "6b3ef6cbd43140fe881fb1756cbb0b0f",
       "version_major": 2,
       "version_minor": 1
      },
      "text/plain": [
       "Viewer()"
      ]
     },
     "metadata": {},
     "output_type": "display_data"
    }
   ],
   "source": [
    "rr.init(\"Optimization over sequence data\")\n",
    "set_pose_annotation_context()\n",
    "rr.notebook_show(width=1000, height=700, blueprint=blueprint)\n",
    "\n",
    "exo_data: ExoData\n",
    "for idx, exo_data in enumerate(itertools.islice(sequence, 100)):\n",
    "    rr.set_time_sequence(\"frame idx\",sequence=idx)\n",
    "    for hand_idx, (hand_side, color, class_id) in enumerate(\n",
    "            (\n",
    "                (\"left\", (0, 255, 0), 0),\n",
    "                (\"right\", (0, 255, 0), 0),\n",
    "            )\n",
    "        ):\n",
    "            \n",
    "            output: tuple[OptimizationResults, LevenbergMarquardtState] = megatrack_fitter(xyz_pred_batch=exo_data.xyz)\n",
    "            optimized_result: OptimizationResults = output[0]\n",
    "            state: LevenbergMarquardtState = output[1]\n",
    "            xyz_pred: Float32[ndarray, \"21 3\"] = exo_data.xyz[hand_idx]\n",
    "            rr.log(\"log\", rr.TextLog(f\"num_iters = {state.iter_num}\"))\n",
    "            match hand_side:\n",
    "                case \"left\":\n",
    "                    xyz: Float[ndarray, \"21 3\"] = optimized_result.xyz_mano[0]\n",
    "                case \"right\":\n",
    "                    xyz: Float[ndarray, \"21 3\"] = optimized_result.xyz_mano[1]\n",
    "                case _: \n",
    "                    raise ValueError(f\"Invalid hand side: {hand_side}\")\n",
    "            rr.log(\n",
    "                f\"{hand_side}_optimized\",\n",
    "                rr.Points3D(\n",
    "                    xyz,\n",
    "                    colors=color,\n",
    "                    class_ids=1,\n",
    "                    keypoint_ids=MEDIAPIPE_IDS,\n",
    "                    show_labels=False,\n",
    "                ),\n",
    "            )\n",
    "            rr.log(\n",
    "                f\"{hand_side}\",\n",
    "                rr.Points3D(\n",
    "                    xyz_pred,\n",
    "                    colors=color,\n",
    "                    class_ids=class_id,\n",
    "                    keypoint_ids=sequence.hand_ids,\n",
    "                    show_labels=False,\n",
    "                ),\n",
    "            )"
   ]
  },
  {
   "cell_type": "code",
   "execution_count": null,
   "id": "3a4a960d",
   "metadata": {},
   "outputs": [],
   "source": []
  }
 ],
 "metadata": {
  "kernelspec": {
   "display_name": "default",
   "language": "python",
   "name": "python3"
  },
  "language_info": {
   "codemirror_mode": {
    "name": "ipython",
    "version": 3
   },
   "file_extension": ".py",
   "mimetype": "text/x-python",
   "name": "python",
   "nbconvert_exporter": "python",
   "pygments_lexer": "ipython3",
   "version": "3.11.0"
  }
 },
 "nbformat": 4,
 "nbformat_minor": 5
}
