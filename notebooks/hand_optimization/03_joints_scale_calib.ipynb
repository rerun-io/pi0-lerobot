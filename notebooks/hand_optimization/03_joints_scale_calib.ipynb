{
 "cells": [
  {
   "cell_type": "code",
   "execution_count": 1,
   "id": "b7827866",
   "metadata": {},
   "outputs": [],
   "source": [
    "%load_ext ipython_beartype\n",
    "%beartype\n",
    "\n",
    "%load_ext autoreload\n",
    "%autoreload 2"
   ]
  },
  {
   "cell_type": "code",
   "execution_count": 2,
   "id": "364167d2",
   "metadata": {},
   "outputs": [
    {
     "name": "stderr",
     "output_type": "stream",
     "text": [
      "WARNING:2025-04-28 13:12:50,794:jax._src.xla_bridge:909: An NVIDIA GPU may be present on this machine, but a CUDA-enabled jaxlib is not installed. Falling back to cpu.\n"
     ]
    }
   ],
   "source": [
    "# Add these lines to the cell with id 34bb5824\n",
    "import warnings\n",
    "\n",
    "import jax.numpy as jnp\n",
    "import numpy as np\n",
    "import rerun as rr\n",
    "from jaxtyping import Array, Float\n",
    "from lovely_numpy import lo\n",
    "from simplecv.data.exoego.skeleton.mediapipe import MEDIAPIPE_ID2NAME, MEDIAPIPE_IDS, MEDIAPIPE_LINKS\n",
    "\n",
    "from pi0_lerobot.mano.mano_jax import mano_j_left, mano_j_right\n",
    "\n",
    "warnings.filterwarnings('ignore', category=RuntimeWarning)\n"
   ]
  },
  {
   "cell_type": "code",
   "execution_count": 3,
   "id": "30fc666f",
   "metadata": {},
   "outputs": [],
   "source": [
    "\n",
    "def set_pose_annotation_context() -> None:\n",
    "    rr.log(\n",
    "        \"/\",\n",
    "        rr.AnnotationContext(\n",
    "            [\n",
    "                rr.ClassDescription(\n",
    "                    info=rr.AnnotationInfo(id=0, label=\"Triangulated Hand\", color=(0, 0, 255)),\n",
    "                    keypoint_annotations=[\n",
    "                        rr.AnnotationInfo(id=id, label=name) for id, name in MEDIAPIPE_ID2NAME.items()\n",
    "                    ],\n",
    "                    keypoint_connections=MEDIAPIPE_LINKS,\n",
    "                ),\n",
    "                rr.ClassDescription(\n",
    "                    info=rr.AnnotationInfo(id=1, label=\"Optimized Hand\", color=(255, 0, 0)),\n",
    "                    keypoint_annotations=[\n",
    "                        rr.AnnotationInfo(id=id, label=name) for id, name in MEDIAPIPE_ID2NAME.items()\n",
    "                    ],\n",
    "                    keypoint_connections=MEDIAPIPE_LINKS,\n",
    "                ),\n",
    "            \n",
    "            ]\n",
    "        ),\n",
    "        static=True,\n",
    "    )"
   ]
  },
  {
   "cell_type": "code",
   "execution_count": 4,
   "id": "36439bca",
   "metadata": {},
   "outputs": [],
   "source": [
    "pose_coeffs: Float[Array, \"batch 48\"] = jnp.zeros((1, 48))\n",
    "left_trans: Float[Array, \"batch 1 3\"] = jnp.array([[[0,0,0.2]]])\n",
    "scale: Float[Array, \"batch 1\"] = jnp.array([[5.0]])\n",
    "\n",
    "xyz_left:Float[Array, \"batch 21 3\"] = mano_j_left(pose_coeffs, left_trans)\n",
    "xyz_left_scaled: Float[Array, \"batch 21 3\"] = mano_j_left(pose_coeffs, left_trans, scale=scale)"
   ]
  },
  {
   "cell_type": "code",
   "execution_count": 5,
   "id": "7ef8375b",
   "metadata": {},
   "outputs": [
    {
     "name": "stderr",
     "output_type": "stream",
     "text": [
      "[2025-04-28T18:12:51Z WARN  re_log_types::path::parse_path] When parsing the entity path \"left joints\": Unescaped whitespace. The path will be interpreted as /left\\ joints\n",
      "[2025-04-28T18:12:51Z WARN  re_log_types::path::parse_path] When parsing the entity path \"left joints scaled\": Unescaped whitespace. The path will be interpreted as /left\\ joints\\ scaled\n"
     ]
    },
    {
     "data": {
      "application/vnd.jupyter.widget-view+json": {
       "model_id": "2db87916faed45cd84cb1946b4d0807f",
       "version_major": 2,
       "version_minor": 1
      },
      "text/plain": [
       "Viewer()"
      ]
     },
     "metadata": {},
     "output_type": "display_data"
    },
    {
     "name": "stderr",
     "output_type": "stream",
     "text": [
      "WARNING:root:Timed out waiting for viewer to become ready. Make sure: https://app.rerun.io/version/0.22.1/widget.js is accessible.\n",
      "If not, consider setting `RERUN_NOTEBOOK_ASSET`. Consult https://pypi.org/project/rerun-notebook/0.22.1/ for details.\n",
      "\n"
     ]
    }
   ],
   "source": [
    "rr.init(\"mano_joints\")\n",
    "\n",
    "set_pose_annotation_context()\n",
    "\n",
    "\n",
    "rr.log(\"left joints\", rr.Points3D(positions=xyz_left[0], class_ids=0, keypoint_ids=MEDIAPIPE_IDS, colors=(0, 255, 0), show_labels=False))\n",
    "rr.log(\"left joints scaled\", rr.Points3D(positions=xyz_left_scaled[0], class_ids=0, keypoint_ids=MEDIAPIPE_IDS, colors=(0, 255, 0), show_labels=False))\n",
    "\n",
    "rr.notebook_show()"
   ]
  },
  {
   "cell_type": "code",
   "execution_count": 6,
   "id": "9836b110",
   "metadata": {},
   "outputs": [
    {
     "name": "stdout",
     "output_type": "stream",
     "text": [
      "Found HoloLens camera: hololens_kv5h72\n"
     ]
    },
    {
     "name": "stderr",
     "output_type": "stream",
     "text": [
      "Loading videos: 100%|██████████| 8/8 [00:00<00:00, 25134.41it/s]\n",
      "Loading 3D labels: 100%|██████████| 8/8 [00:02<00:00,  3.82it/s]\n",
      "Indexing depth images: 100%|██████████| 8/8 [00:00<00:00, 445.94it/s]\n"
     ]
    }
   ],
   "source": [
    "from pathlib import Path\n",
    "\n",
    "from jaxtyping import Float32\n",
    "from numpy import ndarray\n",
    "from simplecv.camera_parameters import PinholeParameters\n",
    "from simplecv.data.exoego.hocap import HOCapSequence\n",
    "\n",
    "data_path = Path(\"../../data/hocap/sample\")\n",
    "assert data_path.exists(), f\"Data path {data_path} does not exist, please check the path.\"\n",
    "sequence: HOCapSequence = HOCapSequence(\n",
    "                data_path=data_path,\n",
    "                sequence_name=\"20231024_180733\",\n",
    "                subject_id=\"8\",\n",
    "                load_labels=True,\n",
    "            )\n",
    "\n",
    "\n",
    "exo_cam_list: list[PinholeParameters] = sequence.exo_cam_list\n",
    "projection_all_list: list[Float32[np.ndarray, \"3 4\"]] = []\n",
    "for exo_cam in sequence.exo_cam_list:\n",
    "    projection_matrix: Float32[ndarray, \"3 4\"] = exo_cam.projection_matrix.astype(np.float32)\n",
    "    projection_all_list.append(projection_matrix)\n",
    "\n",
    "Pall: Float32[np.ndarray, \"n_views 3 4\"] = np.array([P for P in projection_all_list])"
   ]
  },
  {
   "cell_type": "code",
   "execution_count": 7,
   "id": "e3155764",
   "metadata": {},
   "outputs": [],
   "source": [
    "from simplecv.apis.view_exoego_data import create_blueprint\n",
    "from simplecv.data.exoego.base_exo_ego import ExoData\n",
    "\n",
    "exo_data: ExoData = sequence[0]\n",
    "parent_log_path:Path = Path(\"world\")\n",
    "\n",
    "exo_cam_log_paths: list[Path] = [parent_log_path / exo_cam.name for exo_cam in sequence.exo_cam_list]\n",
    "exo_video_log_paths: list[Path] = [cam_log_paths / \"pinhole\" / \"video\" for cam_log_paths in exo_cam_log_paths]\n",
    "\n",
    "blueprint = create_blueprint(exo_video_log_paths=exo_video_log_paths, num_videos_to_log=8)"
   ]
  },
  {
   "cell_type": "markdown",
   "id": "35f62f53",
   "metadata": {},
   "source": [
    "## Lets get this working for the first 10 frames"
   ]
  },
  {
   "cell_type": "code",
   "execution_count": 8,
   "id": "23c8611f",
   "metadata": {},
   "outputs": [
    {
     "data": {
      "application/vnd.jupyter.widget-view+json": {
       "model_id": "3a233b5fff8c47079f3851143e1f0a8b",
       "version_major": 2,
       "version_minor": 1
      },
      "text/plain": [
       "Viewer()"
      ]
     },
     "metadata": {},
     "output_type": "display_data"
    },
    {
     "name": "stderr",
     "output_type": "stream",
     "text": [
      "WARNING:root:Timed out waiting for viewer to become ready. Make sure: https://app.rerun.io/version/0.22.1/widget.js is accessible.\n",
      "If not, consider setting `RERUN_NOTEBOOK_ASSET`. Consult https://pypi.org/project/rerun-notebook/0.22.1/ for details.\n",
      "\n"
     ]
    },
    {
     "name": "stdout",
     "output_type": "stream",
     "text": [
      "xyxy is nan: [nan nan nan nan]\n",
      "xyxy is nan: [nan nan nan nan]\n",
      "xyxy is nan: [nan nan nan nan]\n",
      "xyxy is nan: [nan nan nan nan]\n",
      "xyxy is nan: [nan nan nan nan]\n",
      "xyxy is nan: [nan nan nan nan]\n",
      "xyxy is nan: [nan nan nan nan]\n",
      "xyxy is nan: [nan nan nan nan]\n",
      "xyxy is nan: [nan nan nan nan]\n",
      "xyxy is nan: [nan nan nan nan]\n",
      "xyxy is nan: [nan nan nan nan]\n",
      "xyxy is nan: [nan nan nan nan]\n",
      "xyxy is nan: [nan nan nan nan]\n",
      "xyxy is nan: [nan nan nan nan]\n",
      "xyxy is nan: [nan nan nan nan]\n",
      "xyxy is nan: [nan nan nan nan]\n",
      "xyxy is nan: [nan nan nan nan]\n",
      "xyxy is nan: [nan nan nan nan]\n",
      "xyxy is nan: [nan nan nan nan]\n",
      "xyxy is nan: [nan nan nan nan]\n"
     ]
    }
   ],
   "source": [
    "import itertools\n",
    "\n",
    "rr.init(\"sequence data\")\n",
    "set_pose_annotation_context()\n",
    "rr.notebook_show(width=1000, height=700, blueprint=blueprint)\n",
    "\n",
    "exo_data: ExoData\n",
    "for idx, exo_data in enumerate(itertools.islice(sequence, 10)):\n",
    "    rr.set_time_sequence(\"frame idx\",sequence=idx)\n",
    "    for hand_idx, (hand_side, color, class_id) in enumerate(\n",
    "            (\n",
    "                (\"left\", (0, 255, 0), 0),\n",
    "                (\"right\", (0, 255, 0), 0),\n",
    "            )\n",
    "        ):\n",
    "            xyz_gt: Float32[ndarray, \"21 3\"] = exo_data.xyz[hand_idx]\n",
    "            rr.log(\n",
    "                hand_side,\n",
    "                rr.Points3D(\n",
    "                    xyz_gt,\n",
    "                    colors=color,\n",
    "                    class_ids=class_id,\n",
    "                    keypoint_ids=MEDIAPIPE_IDS,\n",
    "                    show_labels=False,\n",
    "                ),\n",
    "            )\n",
    "\n",
    "    for cam_param, bgr in zip(exo_data.cam_params_list, exo_data.bgr_list, strict=True):\n",
    "        for hand_idx, (hand_side, color, class_id) in enumerate(\n",
    "            (\n",
    "                (\"left\", (0, 255, 0), 0),\n",
    "                (\"right\", (0, 255, 0), 0),\n",
    "            )\n",
    "        ):\n",
    "            xyz_gt: Float32[ndarray, \"21 3\"] = exo_data.xyz[hand_idx]\n",
    "            z_relative: Float32[ndarray, \"21\"] = xyz_gt[:, 2] - xyz_gt[9, 2]\n",
    "            # np.nan is used to indicate that a joint is not confidently detected\n",
    "            uv: Float32[ndarray, \"21 2\"] = exo_data.uv_dict[cam_param.name][hand_idx]\n",
    "            # np.nan is used to indicate that a joint is not confidently detected\n",
    "            uv[uv == -1] = np.nan\n",
    "\n",
    "            uvz:Float32[ndarray, \"21 3\"] = np.concatenate([uv, z_relative[:, None]], axis=1)\n",
    "\n",
    "            # find min/max to generate a bounding box, add a small padding\n",
    "            uv_min:Float32[ndarray, \"2\"] = np.nanmin(uv, axis=0)\n",
    "            uv_max:Float32[ndarray, \"2\"] = np.nanmax(uv, axis=0)\n",
    "\n",
    "            xyxy:Float32[ndarray, \"4\"] = np.concatenate([uv_min, uv_max], axis=0)\n",
    "            if np.any(np.isnan(xyxy)):\n",
    "                print(f\"xyxy is nan: {xyxy}\")\n",
    "                continue\n",
    "\n",
    "            image_log_path: Path = parent_log_path / cam_param.name / \"pinhole\" / \"video\"\n",
    "            rr.log(\n",
    "                f\"{image_log_path}/{hand_side}_keypoints\",\n",
    "                rr.Points2D(\n",
    "                    uv,\n",
    "                    colors=color,\n",
    "                    class_ids=class_id,\n",
    "                    keypoint_ids=MEDIAPIPE_IDS,\n",
    "                    show_labels=False,\n",
    "                ),\n",
    "            )\n",
    "\n",
    "            rr.log(\n",
    "                    f\"{image_log_path}/{hand_side}_xyxy\",\n",
    "                    rr.Boxes2D(\n",
    "                        array=xyxy,\n",
    "                        array_format=rr.Box2DFormat.XYXY\n",
    "                    )\n",
    "            )\n",
    "            rr.log(\n",
    "                f\"{image_log_path}\",\n",
    "                rr.Image(\n",
    "                    bgr,\n",
    "                    color_model=rr.ColorModel.BGR\n",
    "                ).compress(jpeg_quality=75),\n",
    "            )"
   ]
  },
  {
   "cell_type": "code",
   "execution_count": 9,
   "id": "bff63bcb",
   "metadata": {},
   "outputs": [
    {
     "name": "stderr",
     "output_type": "stream",
     "text": [
      "/home/pablo/0Dev/repos/pi0-lerobot/.pixi/envs/default/lib/python3.11/site-packages/jaxopt/_src/levenberg_marquardt.py:506: UserWarning: The linear solver cholesky that requires materialization of J^T.J matrix is used with materialize_jac=False, which may cause a computational overhead. Consider using either a matrix-free iterative solver such as cg or bicg or using materialize_jac=True.\n",
      "  warnings.warn(f\"The linear solver {self.solver} that requires materialization of \"\n"
     ]
    },
    {
     "name": "stdout",
     "output_type": "stream",
     "text": [
      "Tracing JIT, can take a while...\n",
      "Trace Done\n"
     ]
    }
   ],
   "source": [
    "import jax\n",
    "import jax.numpy as npj\n",
    "from jax import jit\n",
    "from jaxopt import LevenbergMarquardt\n",
    "from jaxopt._src.levenberg_marquardt import LevenbergMarquardtState\n",
    "\n",
    "from pi0_lerobot.mano.mano_optimization_jax import LMOptimJointOnly, LossWeights, OptimizationResults\n",
    "\n",
    "loss_weights = LossWeights(\n",
    "    keypoint_2d=0.1,\n",
    "    depth=0.0,\n",
    "    temp=0.0,\n",
    ")\n",
    "megatrack_fitter = LMOptimJointOnly(\n",
    "    Pall=Pall,\n",
    "    loss_weights=loss_weights,\n",
    "    num_iters=30,\n",
    ")"
   ]
  },
  {
   "cell_type": "markdown",
   "id": "759533a5",
   "metadata": {},
   "source": [
    "# Vectorized Projection using batched matrix multiplication with jax"
   ]
  },
  {
   "cell_type": "code",
   "execution_count": 10,
   "id": "52ff9995",
   "metadata": {},
   "outputs": [],
   "source": [
    "from einops import rearrange\n",
    "from simplecv.rerun_log_utils import log_pinhole\n",
    "\n",
    "\n",
    "@jit\n",
    "def proj_3d_other(\n",
    "    xyz_hom: Float[Array, \"n_frames n_joints 4\"],\n",
    "    P: Float[Array, \"n_views 3 4\"]\n",
    "    ) -> Float[Array, \"n_frames n_views n_joints 2\"]:\n",
    "    \"\"\"\n",
    "    Projects 3D points to 2D using the projection matrix for a batch of frames and views.\n",
    "\n",
    "    xyz_hom: [n_frames, 21, 4] [x, y, z, 1]\n",
    "    P: [n_views, 3, 4] (projection matrix - includes extrensic (R, t) and intrinsic (K))\n",
    "\n",
    "    return kp2d: [n_frames, n_views, n_joints, 2] (squeeze out if 1)\n",
    "    \"\"\"\n",
    "    # rearrange for batch matrix multiplication\n",
    "    xyz_hom: Float[Array, \"n_frames 1 4 21\"] = rearrange(xyz_hom, \"n_frames n_joints xyz_hom -> n_frames 1 xyz_hom n_joints\")\n",
    "    P: Float[Array, \"1 n_views 3 4\"] = rearrange(P, \"n_views n m -> 1 n_views n m\")\n",
    "\n",
    "    # [1 n_views, 3, 4] @ [n_frames, 1, 4, 21] -> [n_frames, n_views, 3, 21]\n",
    "    uv_hom: Float[Array, \"n_frames n_views 3 21\"] = P @ xyz_hom\n",
    "    uv_hom = rearrange(uv_hom, \"n_frames n_views xyz_hom n_joints -> n_frames n_views n_joints xyz_hom\")\n",
    "    # convert back from homogeneous coordinates\n",
    "    uv:Float[Array, \"n_frames n_views 21 2\"] = uv_hom[..., :2] / uv_hom[..., 2:]\n",
    "\n",
    "    return uv\n",
    "\n",
    "# Calculate indices for 5 equally spaced frames\n",
    "num_frames_to_select = 5\n",
    "total_frames = len(sequence)\n",
    "# Use np.linspace to get equally spaced indices, including start and end\n",
    "frame_indices = np.linspace(0, total_frames - 1, num_frames_to_select).astype(int)\n",
    "\n",
    "# Get the ExoData for the selected frames\n",
    "exo_data_list: list[ExoData] = [sequence[int(frame_idx)] for frame_idx in frame_indices]\n",
    "\n",
    "# create a batch of xyz points\n",
    "xyz_batch: list[Float[ndarray, \"2 21 3\"]] = [exo_data.xyz for exo_data in exo_data_list]\n",
    "xyz_batch: Float[ndarray, \"n_frames 2 21 3\"] = np.stack(xyz_batch, axis=0)\n",
    "xyz_hom_batch: Float[ndarray, \"n_frames 2 21 4\"] = np.concatenate([xyz_batch, np.ones_like(xyz_batch)[..., 0:1]], axis=-1)\n",
    "\n",
    "left_xyz_hom_batch: Float[ndarray, \"n_frames 21 4\"] = xyz_hom_batch[:, 0]\n",
    "right_xyz_hom_batch: Float[ndarray, \"n_frames 21 4\"] = xyz_hom_batch[:, 1]\n",
    "\n",
    "\n",
    "uv_batch_left:Float[Array, \"n_frames n_views 21 2\"] = proj_3d_other(\n",
    "    xyz_hom=npj.array(left_xyz_hom_batch),\n",
    "    P=npj.array(Pall)\n",
    ")\n",
    "uv_batch_right:Float[Array, \"n_frames n_views 21 2\"] = proj_3d_other(\n",
    "    xyz_hom=npj.array(right_xyz_hom_batch),\n",
    "    P=npj.array(Pall)\n",
    ")\n",
    "uv_batch: Float[ndarray, \"n_frames n_views 2 21 2\"] = np.stack([uv_batch_left, uv_batch_right], axis=2)"
   ]
  },
  {
   "cell_type": "code",
   "execution_count": 11,
   "id": "e152b8a0",
   "metadata": {},
   "outputs": [
    {
     "data": {
      "application/vnd.jupyter.widget-view+json": {
       "model_id": "0f4ad0a6737e4c1cbd9509b6d760407c",
       "version_major": 2,
       "version_minor": 1
      },
      "text/plain": [
       "Viewer()"
      ]
     },
     "metadata": {},
     "output_type": "display_data"
    },
    {
     "name": "stderr",
     "output_type": "stream",
     "text": [
      "WARNING:root:Timed out waiting for viewer to become ready. Make sure: https://app.rerun.io/version/0.22.1/widget.js is accessible.\n",
      "If not, consider setting `RERUN_NOTEBOOK_ASSET`. Consult https://pypi.org/project/rerun-notebook/0.22.1/ for details.\n",
      "\n"
     ]
    }
   ],
   "source": [
    "rr.init(\"Random Sequence\")\n",
    "set_pose_annotation_context()\n",
    "rr.notebook_show(width=1000, height=700, blueprint=blueprint)\n",
    "for frame_idx, (frame_ts, exo_data) in enumerate(zip(frame_indices, exo_data_list, strict=True)):\n",
    "    rr.set_time_sequence(\"frame idx\", sequence=frame_ts)\n",
    "    for hand_idx, (hand_side, color, class_id) in enumerate(\n",
    "            (\n",
    "                (\"left\", (0, 255, 0), 0),\n",
    "                (\"right\", (0, 255, 0), 0),\n",
    "            )\n",
    "        ):\n",
    "            xyz_gt: Float32[ndarray, \"21 3\"] = exo_data.xyz[hand_idx]\n",
    "            uv_views: Float[ndarray, \"n_views 21 2\"] = uv_batch[frame_idx, :, hand_idx, ...]\n",
    "            rr.log(\n",
    "                hand_side,\n",
    "                rr.Points3D(\n",
    "                    xyz_gt,\n",
    "                    colors=color,\n",
    "                    class_ids=class_id,\n",
    "                    keypoint_ids=MEDIAPIPE_IDS,\n",
    "                    show_labels=False,\n",
    "                ),\n",
    "            )\n",
    "            for cam_param, bgr, uv in zip(exo_data.cam_params_list, exo_data.bgr_list, uv_views, strict=True): \n",
    "                cam_log_path: Path = parent_log_path / cam_param.name   \n",
    "                image_log_path: Path = cam_log_path / \"pinhole\" / \"video\"\n",
    "\n",
    "                rr.log(\n",
    "                    f\"{image_log_path}\",\n",
    "                    rr.Image(\n",
    "                        bgr,\n",
    "                        color_model=rr.ColorModel.BGR\n",
    "                    ).compress(jpeg_quality=75),\n",
    "                )\n",
    "                rr.log(\n",
    "                    f\"{image_log_path}/{hand_side}_keypoints\",\n",
    "                    rr.Points2D(\n",
    "                        uv,\n",
    "                        colors=color,\n",
    "                        class_ids=class_id,\n",
    "                        keypoint_ids=MEDIAPIPE_IDS,\n",
    "                        show_labels=False,\n",
    "                    ),\n",
    "                )\n",
    "\n",
    "                log_pinhole(\n",
    "                    camera=cam_param,\n",
    "                    cam_log_path=cam_log_path,\n",
    "                    image_plane_distance=0.1,\n",
    "                    static=False\n",
    "                )\n"
   ]
  },
  {
   "cell_type": "markdown",
   "id": "746ac534",
   "metadata": {},
   "source": [
    "## Example optimization using 3d keypoints"
   ]
  },
  {
   "cell_type": "code",
   "execution_count": 12,
   "id": "00388894",
   "metadata": {},
   "outputs": [
    {
     "data": {
      "application/vnd.jupyter.widget-view+json": {
       "model_id": "1957b01052f2431b9e4a26c4d1cea3a3",
       "version_major": 2,
       "version_minor": 1
      },
      "text/plain": [
       "Viewer()"
      ]
     },
     "metadata": {},
     "output_type": "display_data"
    },
    {
     "name": "stderr",
     "output_type": "stream",
     "text": [
      "WARNING:root:Timed out waiting for viewer to become ready. Make sure: https://app.rerun.io/version/0.22.1/widget.js is accessible.\n",
      "If not, consider setting `RERUN_NOTEBOOK_ASSET`. Consult https://pypi.org/project/rerun-notebook/0.22.1/ for details.\n",
      "\n"
     ]
    }
   ],
   "source": [
    "rr.init(\"Optimization over sequence data\")\n",
    "set_pose_annotation_context()\n",
    "rr.notebook_show(width=1500, height=700, blueprint=blueprint)\n",
    "\n",
    "exo_data: ExoData\n",
    "for idx, exo_data in enumerate(itertools.islice(sequence, 15)):\n",
    "    rr.set_time_sequence(\"frame idx\",sequence=idx)\n",
    "    for hand_idx, (hand_side, color, class_id) in enumerate(\n",
    "            (\n",
    "                (\"left\", (0, 255, 0), 0),\n",
    "                (\"right\", (0, 255, 0), 0),\n",
    "            )\n",
    "        ):\n",
    "            \n",
    "            output: tuple[OptimizationResults, LevenbergMarquardtState] = megatrack_fitter(xyz_pred_batch=exo_data.xyz)\n",
    "            optimized_result: OptimizationResults = output[0]\n",
    "            state: LevenbergMarquardtState = output[1]\n",
    "            xyz_pred: Float32[ndarray, \"21 3\"] = exo_data.xyz[hand_idx]\n",
    "            rr.log(\"log\", rr.TextLog(f\"num_iters = {state.iter_num}\"))\n",
    "            match hand_side:\n",
    "                case \"left\":\n",
    "                    xyz: Float[ndarray, \"21 3\"] = optimized_result.xyz_mano[0]\n",
    "                    xyz_template_left = xyz_pred - xyz_pred[0:1, :]\n",
    "                case \"right\":\n",
    "                    xyz: Float[ndarray, \"21 3\"] = optimized_result.xyz_mano[1]\n",
    "                    xyz_template_right = xyz_pred - xyz_pred[0:1, :]\n",
    "                case _: \n",
    "                    raise ValueError(f\"Invalid hand side: {hand_side}\")\n",
    "            rr.log(\n",
    "                f\"{hand_side}_optimized\",\n",
    "                rr.Points3D(\n",
    "                    xyz,\n",
    "                    colors=color,\n",
    "                    class_ids=1,\n",
    "                    keypoint_ids=MEDIAPIPE_IDS,\n",
    "                    show_labels=False,\n",
    "                ),\n",
    "            )\n",
    "            rr.log(\n",
    "                f\"{hand_side}\",\n",
    "                rr.Points3D(\n",
    "                    xyz_pred,\n",
    "                    colors=color,\n",
    "                    class_ids=class_id,\n",
    "                    keypoint_ids=sequence.hand_ids,\n",
    "                    show_labels=False,\n",
    "                ),\n",
    "            )"
   ]
  },
  {
   "cell_type": "markdown",
   "id": "582f4dae",
   "metadata": {},
   "source": [
    "## Compare idx of mano -> mediapipe"
   ]
  },
  {
   "cell_type": "code",
   "execution_count": 13,
   "id": "4bc4c6d8",
   "metadata": {},
   "outputs": [
    {
     "name": "stderr",
     "output_type": "stream",
     "text": [
      "[2025-04-28T18:13:22Z WARN  re_log_types::path::parse_path] When parsing the entity path \"left joints mano\": Unescaped whitespace. The path will be interpreted as /left\\ joints\\ mano\n"
     ]
    },
    {
     "data": {
      "application/vnd.jupyter.widget-view+json": {
       "model_id": "351c4cfe70b446f9a562ddc795c41ea1",
       "version_major": 2,
       "version_minor": 1
      },
      "text/plain": [
       "Viewer()"
      ]
     },
     "metadata": {},
     "output_type": "display_data"
    },
    {
     "name": "stderr",
     "output_type": "stream",
     "text": [
      "WARNING:root:Timed out waiting for viewer to become ready. Make sure: https://app.rerun.io/version/0.22.1/widget.js is accessible.\n",
      "If not, consider setting `RERUN_NOTEBOOK_ASSET`. Consult https://pypi.org/project/rerun-notebook/0.22.1/ for details.\n",
      "\n"
     ]
    }
   ],
   "source": [
    "from pi0_lerobot.mano.mano_jax import JointsOnly, left_joints\n",
    "\n",
    "mp_to_mano = [0, 5, 6, 7, 9, 10, 11, 17, 18, 19,\n",
    "     13, 14, 15, 1, 2, 3, 8, 12, 20, 16, 4]\n",
    "rr.init(\"mano_joints\")\n",
    "\n",
    "set_pose_annotation_context()\n",
    "\n",
    "left_joints_mp =        left_joints[[0, 13, 14, 15, 20, 1, 2, 3, 16, 4, 5, 6, 17, 10, 11, 12, 19, 7, 8, 9, 18], :]\n",
    "left_joints_mano =        left_joints_mp[mp_to_mano, :]\n",
    "\n",
    "\n",
    "rr.log(\"left joints mano\", rr.Points3D(positions=left_joints_mano, class_ids=0, keypoint_ids=MEDIAPIPE_IDS, colors=(0, 255, 0), show_labels=False))\n",
    "\n",
    "rr.notebook_show()"
   ]
  },
  {
   "cell_type": "markdown",
   "id": "506977ef",
   "metadata": {},
   "source": [
    "## Example Optimization on a single timestep using multiview 2d keypoints"
   ]
  },
  {
   "cell_type": "code",
   "execution_count": 14,
   "id": "3a4a960d",
   "metadata": {},
   "outputs": [
    {
     "name": "stdout",
     "output_type": "stream",
     "text": [
      "array[336] f32 1.3Kb x∈[-10.584, 11.655] μ=0.097 σ=5.883\n"
     ]
    }
   ],
   "source": [
    "from jax.debug import print as jprint\n",
    "\n",
    "from pi0_lerobot.mano.mano_jax import JointsOnly\n",
    "\n",
    "new_mano_j_left = JointsOnly(template_joints=npj.array(xyz_template_left[mp_to_mano, :]))\n",
    "new_mano_j_right = JointsOnly(template_joints=npj.array(xyz_template_right[mp_to_mano, :]))\n",
    "\n",
    "new_mano_j_left = jit(new_mano_j_left)\n",
    "new_mano_j_right = jit(new_mano_j_right)\n",
    "\n",
    "\n",
    "HAND_TYPE= [\"left\", \"right\"]\n",
    "\n",
    "@jit\n",
    "def mv_2d_scaled_residual(\n",
    "    param_to_optimize: Float[Array, \"_\"],\n",
    "    Pall: Float[Array, \"b 3 4\"],\n",
    "    uv_pred: Float[Array, \"b n_views 21 2\"],\n",
    "    loss_weights: LossWeights,\n",
    "    is_left,\n",
    ") -> Float[Array, \"_\"]:\n",
    "    \"\"\"\n",
    "    Calculates the residual error between projected MANO keypoints and target 2D keypoints.\n",
    "\n",
    "    Args:\n",
    "        param_to_optimize: Flattened MANO parameters (pose coefficients and translation).\n",
    "                           Must be a 1D array (batch_size * 51) because jaxopt optimizers\n",
    "                           like LevenbergMarquardt expect a flat vector of parameters.\n",
    "        Pall: Projection matrices for each camera view, shape (b, 3, 4).\n",
    "              'b' here refers to the batch size (number of frames/samples).\n",
    "        uv_pred: Target 2D keypoints for each view and joint, shape (b, n_views, 21, 2).\n",
    "                 'n_views' is the number of camera views.\n",
    "        loss_weights: Dictionary containing weights for different loss components (e.g., 'keypoint_2d').\n",
    "        is_left: Boolean indicating whether to use the left or right MANO model.\n",
    "\n",
    "    Returns:\n",
    "        A flattened 1D array containing the weighted residual errors for all keypoints, views, and batch items.\n",
    "    \"\"\"\n",
    "    batch_size: int = uv_pred.shape[0]\n",
    "    # extract parameters that are being optimized and add batch dimension\n",
    "    scale_param: Float[Array, \"\"] = param_to_optimize[-1]\n",
    "    scale_param: Float[Array, \"1 1\"] = scale_param.reshape(1, 1)\n",
    "    param_to_optimize: Float[Array, \"_\"] = param_to_optimize[:-1]\n",
    "    param_to_optimize: Float[Array, \"1 51\"] = param_to_optimize.reshape(batch_size, 51)\n",
    "\n",
    "    so3: Float[Array, \"b 48\"] = param_to_optimize[:, 0:48]\n",
    "    trans: Float[Array, \"b 1 3\"] = param_to_optimize[:, npj.newaxis, 48:51]\n",
    "\n",
    "    def left_func(x:tuple[Float[Array, \"b 48\"], Float[Array, \"b 1 3\"], Float[Array, \"1 1\"]])->Float[Array, \"b 21 3\"]:\n",
    "        return new_mano_j_left(x[0], x[1], x[2])\n",
    "\n",
    "    def right_func(x:tuple[Float[Array, \"b 48\"], Float[Array, \"b 1 3\"], Float[Array, \"1 1\"]])->Float[Array, \"b 21 3\"]:\n",
    "        return new_mano_j_right(x[0], x[1], x[2])\n",
    "\n",
    "    xyz_mano: Float[Array, \"b 21 3\"] = jax.lax.cond(is_left, left_func, right_func, (so3, trans, scale_param))\n",
    "    xyz_mano_hom: Float[Array, \"b 21 4\"] = npj.concatenate([xyz_mano, npj.ones_like(xyz_mano)[..., 0:1]], axis=-1)\n",
    "\n",
    "    uv_mano: Float[Array, \"b n_views 21 2\"] = proj_3d_other(\n",
    "        xyz_hom=xyz_mano_hom,\n",
    "        P=Pall\n",
    "    )\n",
    "\n",
    "    # calculate residuals\n",
    "    res_2d: Float[Array, \"b n_views 21 2\"] = uv_mano - uv_pred\n",
    "    res_2d = jnp.nan_to_num(res_2d * loss_weights[\"keypoint_2d\"], nan=0.0)\n",
    "\n",
    "\n",
    "    # Return the flattened vector of valid, weighted residuals\n",
    "    return res_2d.flatten()\n",
    "\n",
    "\n",
    "\n",
    "\n",
    "# init_params: Float[Array, \"51\"] = npj.concatenate([optimized_result.so3[0], optimized_result.trans[0]])\n",
    "init_params: Float[Array, \"b 51\"] = npj.zeros((1, 51))\n",
    "\n",
    "exo_data: ExoData = sequence[0]\n",
    "P_list: list[ndarray] = [exo_cam.projection_matrix for exo_cam in exo_data.cam_params_list]\n",
    "uv_list: list[ndarray] = [exo_data.uv_dict[cam_param.name] for cam_param in exo_data.cam_params_list]\n",
    "P_all: Float[Array, \"n_views 3 4\"] = npj.stack(P_list, axis=0)\n",
    "uv_gt: Float[Array, \"n_views 2 21 2\"] = npj.stack(uv_list, axis=0)\n",
    "uv_left_gt_batch: Float[Array, \"n_views 21 2\"] = uv_gt[:, 0, ...]\n",
    "uv_left_gt_batch: Float[Array, \"n_frames n_views 21 2\"] = rearrange(uv_left_gt_batch, \"n_views n_joints uv -> 1 n_views n_joints uv\")\n",
    "\n",
    "init_params: Float[Array, \"b 51\"] = npj.zeros((1, 51))\n",
    "scale_param: Float[Array, \"1\"] = npj.array([1.0])\n",
    "init_params = npj.concatenate([init_params.flatten(), scale_param], axis=0)\n",
    "\n",
    "residual = mv_2d_scaled_residual(\n",
    "    param_to_optimize=init_params.flatten(),\n",
    "    Pall=P_all,\n",
    "    uv_pred=uv_left_gt_batch,\n",
    "    loss_weights=loss_weights,\n",
    "    is_left=True\n",
    ")\n",
    "print(lo(np.array(residual)))"
   ]
  },
  {
   "cell_type": "code",
   "execution_count": 15,
   "id": "e515189e",
   "metadata": {},
   "outputs": [
    {
     "name": "stdout",
     "output_type": "stream",
     "text": [
      "Tracing JIT, can take a while...\n"
     ]
    },
    {
     "name": "stderr",
     "output_type": "stream",
     "text": [
      "/home/pablo/0Dev/repos/pi0-lerobot/.pixi/envs/default/lib/python3.11/site-packages/jaxopt/_src/levenberg_marquardt.py:506: UserWarning: The linear solver cholesky that requires materialization of J^T.J matrix is used with materialize_jac=False, which may cause a computational overhead. Consider using either a matrix-free iterative solver such as cg or bicg or using materialize_jac=True.\n",
      "  warnings.warn(f\"The linear solver {self.solver} that requires materialization of \"\n"
     ]
    }
   ],
   "source": [
    "\n",
    "loss_weights = LossWeights(\n",
    "    keypoint_2d=1.0,\n",
    "    depth=0.0,\n",
    "    temp=0.0,\n",
    ")\n",
    "\n",
    "optimizer = LevenbergMarquardt(\n",
    "    residual_fun=mv_2d_scaled_residual, maxiter=1000, solver=\"cholesky\", jit=True, xtol=1e-8, gtol=1e-8\n",
    ")\n",
    "# add jit\n",
    "print(\"Tracing JIT, can take a while...\")\n",
    "_, _ = optimizer.run(\n",
    "    init_params.flatten(),\n",
    "    Pall=P_all,\n",
    "    uv_pred=uv_left_gt_batch,\n",
    "    loss_weights=loss_weights,\n",
    "    is_left=True\n",
    ")\n",
    "optimizer = jit(optimizer.run)"
   ]
  },
  {
   "cell_type": "code",
   "execution_count": 16,
   "id": "4857d81d",
   "metadata": {},
   "outputs": [
    {
     "data": {
      "application/vnd.jupyter.widget-view+json": {
       "model_id": "d35904068507477caa51cae7a6537b69",
       "version_major": 2,
       "version_minor": 1
      },
      "text/plain": [
       "Viewer()"
      ]
     },
     "metadata": {},
     "output_type": "display_data"
    }
   ],
   "source": [
    "# optimize 5 frames of the left hand\n",
    "from simplecv.camera_parameters import PinholeParameters\n",
    "\n",
    "num_samples = 1\n",
    "exo_data_list: list[ExoData] = [sequence[int(frame_idx)] for frame_idx in range(num_samples)]\n",
    "\n",
    "# create batch of frames and views of uv\n",
    "uv_batch_list: list[Float[ndarray, \"n_views 2 21 2\"]] = []\n",
    "for exo_data in exo_data_list:\n",
    "    uv_list: list[ndarray] = [exo_data.uv_dict[cam_param.name] for cam_param in exo_data.cam_params_list]\n",
    "    uv_gt: Float[Array, \"n_views 2 21 2\"] = npj.stack(uv_list, axis=0)\n",
    "    uv_batch_list.append(uv_gt)\n",
    "\n",
    "uv_batch: Float[Array, \"n_frames n_views 2 21 2\"] = npj.stack(uv_batch_list, axis=0)\n",
    "P_list: list[Float[ndarray, \"3 4\"]] = [exo_cam.projection_matrix for exo_cam in exo_data_list[0].cam_params_list]\n",
    "Pall: Float[Array, \"n_views 3 4\"] = npj.stack(P_list, axis=0)\n",
    "\n",
    "uv_left_gt_batch: Float[Array, \"n_frames n_views 21 2\"] = uv_batch[:, :, 0, ...]\n",
    "\n",
    "rr.init(\"Random Sequence\")\n",
    "set_pose_annotation_context()\n",
    "rr.notebook_show(width=1000, height=700, blueprint=blueprint)\n",
    "for frame_idx in range(num_samples):\n",
    "    rr.set_time_sequence(\"frame idx\", sequence=frame_ts)\n",
    "    \n",
    "    uv_gt_left: Float[Array, \"n_views 21 2\"] = uv_left_gt_batch[frame_idx, ...]\n",
    "    cam_param_list: list[PinholeParameters] = exo_data_list[0].cam_params_list\n",
    "    bgr_list: list[ndarray] = exo_data_list[frame_idx].bgr_list\n",
    "\n",
    "    for uv_left, cam_param, bgr in zip(uv_gt_left, cam_param_list, bgr_list, strict=True):\n",
    "        cam_log_path: Path = parent_log_path / cam_param.name   \n",
    "        image_log_path: Path = cam_log_path / \"pinhole\" / \"video\"\n",
    "        rr.log(\n",
    "            f\"{image_log_path}\",\n",
    "            rr.Image(\n",
    "                bgr,\n",
    "                color_model=rr.ColorModel.BGR\n",
    "            ).compress(jpeg_quality=75),\n",
    "        )\n",
    "        rr.log(\n",
    "            f\"{image_log_path}/{hand_side}_keypoints\",\n",
    "            rr.Points2D(\n",
    "                uv_left,\n",
    "                colors=(0, 255, 0),\n",
    "                class_ids=0,\n",
    "                keypoint_ids=MEDIAPIPE_IDS,\n",
    "                show_labels=False,\n",
    "            ),\n",
    "        )\n",
    "        log_pinhole(\n",
    "            camera=cam_param,\n",
    "            cam_log_path=cam_log_path,\n",
    "            image_plane_distance=0.1,\n",
    "            static=False\n",
    "        )\n",
    "\n",
    "batch_size: int = uv_left_gt_batch.shape[0]\n",
    "so3_init: Float[Array, \"b 48\"] = npj.zeros((batch_size, 48))\n",
    "trans_init: Float[Array, \"b 3\"] = npj.zeros((batch_size, 3))\n",
    "init_params: Float[Array, \"b 51\"] = npj.concatenate([so3_init, trans_init], axis=-1)\n",
    "scale_init: Float[Array, \"1\"] = npj.ones((1))\n",
    "init_params = npj.concatenate([init_params.flatten(), scale_init], axis=0)\n",
    "\n",
    "optimized_params, state = optimizer(\n",
    "    init_params,\n",
    "    Pall=P_all,\n",
    "    uv_pred=uv_left_gt_batch,\n",
    "    loss_weights=loss_weights,\n",
    "    is_left=True\n",
    ")\n",
    "optimized_scale: Float[Array, \"\"] = optimized_params[-1]\n",
    "optimized_params: Float[Array, \"_\"] = optimized_params[:-1]\n",
    "optimized_params: Float[Array, \"b 51\"] = optimized_params.reshape(batch_size, 51)\n",
    "optimized_so3: Float[Array, \"b 48\"] = optimized_params[:, 0:48]\n",
    "optimized_trans: Float[Array, \"b 3\"] = optimized_params[:, 48:51]"
   ]
  },
  {
   "cell_type": "code",
   "execution_count": 27,
   "id": "00d4364e",
   "metadata": {},
   "outputs": [
    {
     "data": {
      "application/vnd.jupyter.widget-view+json": {
       "model_id": "833037803a1142568d3db86e4e215a80",
       "version_major": 2,
       "version_minor": 1
      },
      "text/plain": [
       "Viewer()"
      ]
     },
     "metadata": {},
     "output_type": "display_data"
    }
   ],
   "source": [
    "xyz_mano_left_init: Float[Array, \"1 21 3\"] = new_mano_j_left(so3_init, trans_init[:, npj.newaxis, :], scale_init[npj.newaxis, ...])\n",
    "xyz_mano_left_batch: Float[Array, \"n_frames 21 3\"] = new_mano_j_left(optimized_so3, optimized_trans[:, npj.newaxis, :], optimized_scale[npj.newaxis, npj.newaxis, ...])\n",
    "xyz_gt_left_batch: Float[Array, \"n_frames 21 3\"] = npj.stack([exo_data.xyz[0] for exo_data in exo_data_list], axis=0)\n",
    "rr.init(\"Optimization over sequence data\")\n",
    "set_pose_annotation_context()\n",
    "rr.notebook_show(width=1000, height=700, blueprint=blueprint)\n",
    "\n",
    "for idx, (xyz_gt_left, xyz_mano_left, xyz_mano_init) in enumerate(zip(xyz_gt_left_batch, xyz_mano_left_batch,xyz_mano_left_init, strict=True)):\n",
    "    rr.set_time_sequence(\"frame idx\",sequence=idx)\n",
    "    rr.log(\n",
    "        f\"{hand_side}_init\",\n",
    "        rr.Points3D(\n",
    "            xyz_mano_init,\n",
    "            colors=(0, 255, 0),\n",
    "            class_ids=1,\n",
    "            keypoint_ids=MEDIAPIPE_IDS,\n",
    "            show_labels=False,\n",
    "        ),\n",
    "    )\n",
    "\n",
    "    rr.log(\n",
    "        f\"{hand_side}_optimized\",\n",
    "        rr.Points3D(\n",
    "            xyz_mano_left,\n",
    "            colors=color,\n",
    "            class_ids=1,\n",
    "            keypoint_ids=MEDIAPIPE_IDS,\n",
    "            show_labels=False,\n",
    "        ),\n",
    "    )\n",
    "    rr.log(\n",
    "        f\"{hand_side}\",\n",
    "        rr.Points3D(\n",
    "            xyz_gt_left,\n",
    "            colors=color,\n",
    "            class_ids=class_id,\n",
    "            keypoint_ids=sequence.hand_ids,\n",
    "            show_labels=False,\n",
    "        ),\n",
    "    )\n",
    "    "
   ]
  },
  {
   "cell_type": "code",
   "execution_count": null,
   "id": "87b8e185",
   "metadata": {},
   "outputs": [],
   "source": []
  }
 ],
 "metadata": {
  "kernelspec": {
   "display_name": "default",
   "language": "python",
   "name": "python3"
  },
  "language_info": {
   "codemirror_mode": {
    "name": "ipython",
    "version": 3
   },
   "file_extension": ".py",
   "mimetype": "text/x-python",
   "name": "python",
   "nbconvert_exporter": "python",
   "pygments_lexer": "ipython3",
   "version": "3.11.0"
  }
 },
 "nbformat": 4,
 "nbformat_minor": 5
}
